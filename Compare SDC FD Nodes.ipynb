{
 "cells": [
  {
   "cell_type": "markdown",
   "metadata": {
    "dotnet_interactive": {
     "language": "csharp"
    }
   },
   "source": [
    "* Find file location on disk\n",
    "  * Place under Git\n",
    "  * Create new IHE-SDC Git repo for SDC Object Model Usage Samples\n",
    "  * Create a folder for SDC XML files\n",
    "  * Create \"Assmblies\" folder for imported assemblies\n",
    "    * Copy in the latest SDC.Schema dll \n",
    "    * Copy in \"C:\\Program Files\\Microsoft Visual Studio\\2022\\Enterprise\\Common7\\IDE\\PublicAssemblies\\Microsoft.VisualStudio.QualityTools.UnitTestFramework.dll\" //Microsoft.VisualStudio.TestTools.UnitTesting\n",
    "    * Create Archive folder for junk notebooks"
   ]
  },
  {
   "cell_type": "code",
   "execution_count": null,
   "metadata": {
    "dotnet_interactive": {
     "language": "csharp"
    },
    "vscode": {
     "languageId": "dotnet-interactive.csharp"
    }
   },
   "outputs": [],
   "source": [
    "//Import assemblies from files\n",
    "#r \"./Assemblies/SDC_CodeGeneratorTest.dll\"  //SDC.Schema namespace\n",
    "#r \"./Assemblies/Microsoft.VisualStudio.QualityTools.UnitTestFramework.dll\"  //unit test framework, if we want to use Asserts etc.\n",
    "\n",
    "using System;\n",
    "using SDC.Schema;\n",
    "//\n",
    "    //using SDC;\n",
    "    //using System.Runtime;\n",
    "    //using System.IO;\n",
    "\n",
    "    using Microsoft.VisualStudio.TestTools.UnitTesting;\n",
    "    //using Newtonsoft.Json;\n",
    "    //using System.Data;\n",
    "    //using System.Diagnostics;\n",
    "    //using System.Drawing;\n",
    "    //using System.Linq;\n",
    "    //using System.Xml; "
   ]
  },
  {
   "cell_type": "markdown",
   "metadata": {},
   "source": [
    "* Read in a large SDC file, and then deserialize as XML"
   ]
  },
  {
   "cell_type": "code",
   "execution_count": null,
   "metadata": {
    "dotnet_interactive": {
     "language": "csharp"
    },
    "vscode": {
     "languageId": "dotnet-interactive.csharp"
    }
   },
   "outputs": [],
   "source": [
    "string path = @\".\\SDC XML\\Breast.Invasive.Staging.359_.CTP9_sdcFDF.xml\";\n",
    "var FD = SDC.Schema.FormDesignType.DeserializeFromXmlPath(path); //Deserialize\n",
    "string myXML =  SdcSerializer<FormDesignType>.Serialize(FD); //Serialize\n",
    "//myXML"
   ]
  },
  {
   "cell_type": "markdown",
   "metadata": {},
   "source": [
    "## Create iterator to return nodes"
   ]
  },
  {
   "cell_type": "code",
   "execution_count": null,
   "metadata": {
    "dotnet_interactive": {
     "language": "csharp"
    },
    "vscode": {
     "languageId": "dotnet-interactive.csharp"
    }
   },
   "outputs": [
    {
     "data": {
      "text/html": [
       "<div class=\"dni-plaintext\">2.6070124E+12</div>"
      ]
     },
     "metadata": {},
     "output_type": "display_data"
    },
    {
     "data": {
      "text/html": [
       "<div class=\"dni-plaintext\">2607012410938</div>"
      ]
     },
     "metadata": {},
     "output_type": "display_data"
    },
    {
     "data": {
      "text/plain": [
       "0"
      ]
     },
     "metadata": {},
     "output_type": "display_data"
    }
   ],
   "source": [
    "using System.Diagnostics;\n",
    "\n",
    "////SDC Setup\n",
    "    BaseType.ResetSdcImport();\n",
    "    string path = @\".\\SDC XML\\Breast.Invasive.Staging.359_.CTP9_sdcFDF.xml\";\n",
    "    var FD = SDC.Schema.FormDesignType.DeserializeFromXmlPath(path); //Deserialize\n",
    "\n",
    "////TIMER SETUP\n",
    "    Stopwatch.StartNew();\n",
    "    var timerStartTime  = (float)Stopwatch.GetTimestamp();\n",
    "    display(timerStartTime);\n",
    "\n",
    "int i = 0;\n",
    "\n",
    "foreach (BaseType node in NodeIterator(FD))\n",
    "    {\n",
    "        //btPrint(node);\n",
    "    }\n",
    "///////////////////////////////////////////////////\n",
    "IEnumerable<BaseType> NodeIterator(BaseType? n)\n",
    "    {\n",
    "        while (n is not null)\n",
    "        {\n",
    "            n = MoveNext(n);\n",
    "            if (n is not null)\n",
    "                yield return n;\n",
    "            else yield break;\n",
    "        }\n",
    "        yield break;\n",
    "    }\n",
    "/////////////////////////////////////////////////\n",
    "BaseType? MoveNext(BaseType n)\n",
    "{\n",
    "    Dictionary<Guid, List<BaseType>> cn = n.TopNode.ChildNodes;\n",
    "    List<BaseType>? childList;\n",
    "    BaseType? nextNode;\n",
    "    \n",
    "    n.order = i;  //almost instananeous\n",
    "    Assert.IsTrue(n.ObjectID == i);//very fast\n",
    "    i++;\n",
    "    //if n has child nodes, the next node is the first child node of n.\n",
    "    if (cn.TryGetValue(n.ObjectGUID, out childList))\n",
    "    {\n",
    "        nextNode = childList[0];\n",
    "        if (nextNode is not null) return nextNode;\n",
    "    }\n",
    "    //Notes:\n",
    "        //n has no child nodes here, so walk up the tree to the parent node.\n",
    "        //When we walk back up the object graph, prevPar is the original starting node (deeper in the tree),\n",
    "        //while par is the parent of prevPar.  par is more superficial in the tree, and closer to the top node\n",
    "        //We then check the childList of par, to see if prePar can be found in that childList\n",
    "        //If prevPar is in childList, then try to retrieve the next node in childList\n",
    "        //IF we cant get the nextNode from childList, then move up to one higher parent level\n",
    "    var prevPar = n;  \n",
    "    var par = prevPar.ParentNode;\n",
    "\n",
    "    while (par is not null)\n",
    "    {\n",
    "        if (cn.TryGetValue(par.ObjectGUID, out childList))\n",
    "        {\n",
    "            var index = childList.IndexOf(prevPar);\n",
    "            if (index < childList.Count - 1)\n",
    "            {\n",
    "                nextNode = childList[index + 1];\n",
    "                if (nextNode is not null) return nextNode;\n",
    "            }\n",
    "            //the next node is not located yet, so walk up to a previous ancestor and try again,\n",
    "                //looking in that ancestors childList for a nextNode candidate\n",
    "            prevPar = par; \n",
    "            par = prevPar.ParentNode;\n",
    "        }\n",
    "    }\n",
    "    return null;\n",
    "}\n",
    "/////////////////////////Small method to output node info///////////////////////////////\n",
    "void btPrint(BaseType n)\n",
    "    {\n",
    "        string content;\n",
    "        if (n is not null)\n",
    "        {\n",
    "            if (n is DisplayedType) content = \": title: \" + (n as DisplayedType)?.title;\n",
    "            else if (n is PropertyType) content = \": \" + (n as PropertyType)?.propName + \": \" + (n as PropertyType)?.val;\n",
    "            else content = \"\";\n",
    "\n",
    "            display(n.ObjectID.ToString().PadLeft(4) + \": \" + i.ToString().PadLeft(4) + \": \" + (n.name ?? \"\").PadRight(20) + \": \" + (n.ElementName ?? \"\").PadRight(25) + content);\n",
    "        }\n",
    "    }\n",
    "display(Stopwatch.GetTimestamp());\n",
    "display(((Stopwatch.GetTimestamp() - timerStartTime) / Stopwatch.Frequency).ToString());"
   ]
  },
  {
   "cell_type": "markdown",
   "metadata": {
    "dotnet_interactive": {
     "language": "csharp"
    }
   },
   "source": [
    "## Find SDC node changes compared to the reference template\n",
    "* Create 2 FormDesign OMs, \"newOM\" and \"refOM\"\n",
    "* Iterate each node in newOM, and locate matcching node in refOM by ID, SGuid and/or name\n",
    "  * For each newOM node, determine if it's \n",
    "    * new, \n",
    "    * has a different parent node, \n",
    "    * previous sib has changed.\n",
    "  * Add the changed node's ID/name/sGUID and change type to a dictionary\n",
    "* Compare each SDC property in newOM with the matching refOM node\n",
    "* "
   ]
  },
  {
   "cell_type": "code",
   "execution_count": null,
   "metadata": {
    "dotnet_interactive": {
     "language": "csharp"
    },
    "vscode": {
     "languageId": "dotnet-interactive.csharp"
    }
   },
   "outputs": [],
   "source": [
    "// var a1 = new { A = 1, B = 2, C = 3, D = 4, E = 5 };\n",
    "// var a2 = a1 with { E = 10 }; \n",
    "// Console.WriteLine (a2);      // { A = 1, B = 2, C = 3, D = 4, E = 10 }\n",
    "\n",
    "public readonly record struct Q(\n",
    "    string ID, string name, string type, string styleClass, //BaseType\n",
    "    string title, bool enabled, bool visible, bool mustImplement, bool showInReport,\n",
    "    uint minCard, uint maxCard,\n",
    "    uint repeat, string instanceGUID, string parentGUID,\n",
    "    bool readOnly, bool changedData, bool newData\n",
    ");\n",
    "\n",
    "public readonly record struct btDiff (BaseType btOld , string ChangedPropName , string ChangedPropVal);\n",
    "var Xchanges = new Dictionary<string, btDiff> ();\n",
    "\n",
    "bool BaseTypeCompare(BaseType btOld, BaseType btNew, Dictionary<string, btDiff> btChanges)\n",
    "    {\n",
    "        bool changed = false;\n",
    "        \n",
    "        if (btOld.name != btNew.name) {changed = true; btChanges.Add(btOld.name, new btDiff(btOld, nameof(btOld.name), btOld.name));}\n",
    "        if (btOld.type != btNew.type) {changed = true; btChanges.Add(btOld.name, new btDiff(btOld, nameof(btOld.type), btOld.type));}\n",
    "        if (btOld.styleClass != btNew.styleClass) {changed = true; btChanges.Add(btOld.name, new btDiff(btOld, nameof(btOld.styleClass), btOld.styleClass));}\n",
    "        if (btOld.sGuid != btNew.sGuid) {changed = true; btChanges.Add(btOld.name, new btDiff(btOld, nameof(btOld.sGuid), btOld.sGuid));}\n",
    "        if (btOld.order != btNew.order) {changed = true; btChanges.Add(btOld.name, new btDiff(btOld, nameof(btOld.order), btOld.order.ToString()));}\n",
    "\n",
    "        if (btOld.ParentNode.name != btNew.ParentNode.name) {changed = true; btChanges.Add(btOld.name, new btDiff(btOld, \"ParentNode.name\", btOld.ParentNode.name));}\n",
    "        if (btOld.ParentIETypeNode.name != btNew.ParentIETypeNode.name) {changed = true; btChanges.Add(btOld.name, new btDiff(btOld, \"ParentIETypeNode.name\", btOld.ParentIETypeNode.name));}\n",
    "        if (btOld.ParentIETypeID != btNew.ParentNode.ParentIETypeID) {changed = true; btChanges.Add(btOld.name, new btDiff(btOld, nameof(btOld.ParentIETypeID), btOld.ParentIETypeID));}\n",
    "        \n",
    "        //Check previous sibling match, if present\n",
    "        var prevSibOld = btOld.GetNodePreviousSib();\n",
    "        var prevSibNew = btOld.GetNodePreviousSib();\n",
    "        if(prevSibOld.name != prevSibNew.name)\n",
    "        {changed = true; btChanges.Add(btOld.name, new btDiff(btOld, \"PreviousSib.name\", prevSibOld?.name??\"\"));}\n",
    "\n",
    "        //Check node type\n",
    "        if (btOld.GetType().Name != btNew.GetType().Name) {changed = true; btChanges.Add(btOld.name, new btDiff(btOld, \"GetType.Name\", btOld.GetType().Name));}\n",
    "        //Check parent node type\n",
    "        if (btOld.ParentNode.GetType().Name != btNew.ParentNode.GetType().Name) {changed = true; btChanges.Add(btOld.name, new btDiff(btOld, \"ParentNode.GetType.Name\", btOld.ParentNode.ParentNode.GetType().Name));}\n",
    "        //Check all Properties, Comments, Extensions here?\n",
    "\n",
    "        if (changed) return false;            \n",
    "\n",
    "        return true;\n",
    "    }\n",
    "    bool QuestionCompare(QuestionItemType btOld, QuestionItemType btNew, Dictionary<string, btDiff> btChanges)\n",
    "    {\n",
    "        bool changed = BaseTypeCompare(btOld, btNew, btChanges);\n",
    "        //IET\n",
    "        if (btOld.ID != btNew.ID) {changed = true; btChanges.Add(btOld.name, new btDiff(btOld, nameof(btOld.ID), btOld.ID));}\n",
    "        if (btOld.baseURI != btNew.baseURI) {changed = true; btChanges.Add(btOld.name, new btDiff(btOld, nameof(btOld.baseURI), btOld.baseURI));}\n",
    "\n",
    "        //DisplayedType\n",
    "        if (btOld.title != btNew.title) {changed = true; btChanges.Add(btOld.name, new btDiff(btOld, nameof(btOld.title), btOld.title));}\n",
    "        if (btOld.enabled != btNew.enabled) {changed = true; btChanges.Add(btOld.name, new btDiff(btOld, nameof(btOld.enabled), btOld.enabled.ToString()));}\n",
    "        if (btOld.visible != btNew.visible) {changed = true; btChanges.Add(btOld.name, new btDiff(btOld, nameof(btOld.visible), btOld.visible.ToString()));}\n",
    "        if (btOld.mustImplement != btNew.mustImplement) {changed = true; btChanges.Add(btOld.name, new btDiff(btOld, nameof(btOld.mustImplement), btOld.mustImplement.ToString()));}\n",
    "        if (btOld.showInReport != btNew.showInReport) {changed = true; btChanges.Add(btOld.name, new btDiff(btOld, nameof(btOld.showInReport), btOld.showInReport.ToString()));}\n",
    "\n",
    "        //RepeatType\n",
    "        if (btOld.minCard != btNew.minCard) {changed = true; btChanges.Add(btOld.name, new btDiff(btOld, nameof(btOld.minCard), btOld.minCard.ToString()));}\n",
    "        if (btOld.maxCard != btNew.maxCard) {changed = true; btChanges.Add(btOld.name, new btDiff(btOld, nameof(btOld.maxCard), btOld.maxCard.ToString()));}\n",
    "        if (btOld.repeat != btNew.repeat) {changed = true; btChanges.Add(btOld.name, new btDiff(btOld, nameof(btOld.repeat), btOld.repeat.ToString()));}\n",
    "        if (btOld.instanceGUID != btNew.instanceGUID) {changed = true; btChanges.Add(btOld.name, new btDiff(btOld, nameof(btOld.instanceGUID), btOld.instanceGUID));}\n",
    "        if (btOld.parentGUID != btNew.parentGUID) {changed = true; btChanges.Add(btOld.name, new btDiff(btOld, nameof(btOld.parentGUID), btOld.parentGUID));}\n",
    "\n",
    "        //QuestionItemBaseType\n",
    "        if (btOld.readOnly != btNew.readOnly) {changed = true; btChanges.Add(btOld.name, new btDiff(btOld, nameof(btOld.readOnly), btOld.readOnly.ToString()));}\n",
    "        if (btOld.changedData != btNew.changedData) {changed = true; btChanges.Add(btOld.name, new btDiff(btOld, nameof(btOld.changedData), btOld.changedData.ToString()));}\n",
    "        if (btOld.newData != btNew.newData) {changed = true; btChanges.Add(btOld.name, new btDiff(btOld, nameof(btOld.newData), btOld.newData.ToString()));}\n",
    "        if (btOld.GetQuestionSubtype() != btNew.GetQuestionSubtype()) {changed = true; btChanges.Add(btOld.name, new btDiff(btOld, \"GetQuestionSubtype\"), btOld.GetQuestionSubtype().ToString()));}\n",
    "        \n",
    "        if (btOld.GetQuestionSubtype() == QuestionEnum.QuestionFill)\n",
    "        {\n",
    "            //Look for some LIR properties, like datatype, minInclusive, maxInclusive, fractionDigits, val, quantEnum, etc.\n",
    "            //Also TextAfterResponse, Response Units\n",
    "        }\n",
    "        if (btOld.GetQuestionSubtype() == QuestionEnum.QuestionSingleOrMultiple)\n",
    "        {\n",
    "            //minSelections, maxSelections, numCols\n",
    "        }\n",
    "\n",
    "        if (changed) return false;            \n",
    "\n",
    "        return true;\n",
    "    }\n"
   ]
  },
  {
   "cell_type": "code",
   "execution_count": null,
   "metadata": {
    "dotnet_interactive": {
     "language": "csharp"
    },
    "vscode": {
     "languageId": "dotnet-interactive.csharp"
    }
   },
   "outputs": [
    {
     "data": {
      "text/html": [
       "<div class=\"dni-plaintext\">True</div>"
      ]
     },
     "metadata": {},
     "output_type": "display_data"
    }
   ],
   "source": [
    "var bt = new FormDesignType();\n",
    "\n",
    "if(null == null) display(true);"
   ]
  }
 ],
 "metadata": {
  "kernelspec": {
   "display_name": ".NET (C#)",
   "language": "C#",
   "name": ".net-csharp"
  },
  "language_info": {
   "file_extension": ".cs",
   "mimetype": "text/x-csharp",
   "name": "C#",
   "pygments_lexer": "csharp",
   "version": "9.0"
  },
  "orig_nbformat": 4
 },
 "nbformat": 4,
 "nbformat_minor": 2
}
