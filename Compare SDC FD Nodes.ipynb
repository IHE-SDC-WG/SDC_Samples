{
 "cells": [
  {
   "cell_type": "markdown",
   "metadata": {
    "dotnet_interactive": {
     "language": "csharp"
    }
   },
   "source": [
    "* Find file location on disk\n",
    "  * Place under Git\n",
    "  * Create new IHE-SDC Git repo for SDC Object Model Usage Samples\n",
    "  * Create a folder for SDC XML files\n",
    "  * Create \"Assmblies\" folder for imported assemblies\n",
    "    * Copy in the latest SDC.Schema dll \n",
    "    * Copy in \"C:\\Program Files\\Microsoft Visual Studio\\2022\\Enterprise\\Common7\\IDE\\PublicAssemblies\\Microsoft.VisualStudio.QualityTools.UnitTestFramework.dll\" //Microsoft.VisualStudio.TestTools.UnitTesting\n",
    "    * Create Archive folder for junk notebooks"
   ]
  },
  {
   "cell_type": "code",
   "execution_count": null,
   "metadata": {
    "dotnet_interactive": {
     "language": "csharp"
    },
    "vscode": {
     "languageId": "dotnet-interactive.csharp"
    }
   },
   "outputs": [],
   "source": [
    "//Import assemblies from files\n",
    "#r \"./Assemblies/SDC_CodeGeneratorTest.dll\"  //SDC.Schema namespace\n",
    "#r \"./Assemblies/Microsoft.VisualStudio.QualityTools.UnitTestFramework.dll\"  //unit test framework, if we want to use Asserts etc.\n",
    "\n",
    "using System;\n",
    "using SDC.Schema;\n",
    "//\n",
    "    //using SDC;\n",
    "    //using System.Runtime;\n",
    "    //using System.IO;\n",
    "\n",
    "    using Microsoft.VisualStudio.TestTools.UnitTesting;\n",
    "    //using Newtonsoft.Json;\n",
    "    //using System.Data;\n",
    "    //using System.Diagnostics;\n",
    "    //using System.Drawing;\n",
    "    //using System.Linq;\n",
    "    //using System.Xml; "
   ]
  },
  {
   "cell_type": "markdown",
   "metadata": {},
   "source": [
    "* Read in a large SDC file, and then deserialize as XML"
   ]
  },
  {
   "cell_type": "code",
   "execution_count": null,
   "metadata": {
    "dotnet_interactive": {
     "language": "csharp"
    },
    "vscode": {
     "languageId": "dotnet-interactive.csharp"
    }
   },
   "outputs": [],
   "source": [
    "string path = @\".\\SDC XML\\Breast.Invasive.Staging.359_.CTP9_sdcFDF.xml\";\n",
    "var FD = SDC.Schema.FormDesignType.DeserializeFromXmlPath(path); //Deserialize\n",
    "string myXML =  SdcSerializer<FormDesignType>.Serialize(FD); //Serialize\n",
    "myXML"
   ]
  },
  {
   "cell_type": "markdown",
   "metadata": {},
   "source": [
    "Create iterator to return nodes"
   ]
  },
  {
   "cell_type": "code",
   "execution_count": null,
   "metadata": {
    "dotnet_interactive": {
     "language": "csharp"
    },
    "vscode": {
     "languageId": "dotnet-interactive.csharp"
    }
   },
   "outputs": [],
   "source": [
    "using System.Diagnostics;\n",
    "\n",
    "////SDC Setup\n",
    "BaseType.ResetSdcImport();\n",
    "string path = @\".\\SDC XML\\Breast.Invasive.Staging.359_.CTP9_sdcFDF.xml\";\n",
    "var FD = SDC.Schema.FormDesignType.DeserializeFromXmlPath(path); //Deserialize\n",
    "\n",
    "////TIMER SETUP\n",
    "Stopwatch.StartNew();\n",
    "var timerStartTime  = (float)Stopwatch.GetTimestamp();\n",
    "\n",
    "int i = 0;\n",
    "\n",
    "foreach (BaseType node in NodeIterator(FD))\n",
    "{\n",
    "    btPrint(node);\n",
    "}\n",
    "///////////////////////////////////////////////////\n",
    "IEnumerable<BaseType> NodeIterator(BaseType? n)\n",
    "    {\n",
    "            while (n is not null)\n",
    "            {\n",
    "                n = MoveNext(n);\n",
    "                if (n is not null)\n",
    "                    yield return n;\n",
    "                else yield break;\n",
    "            }\n",
    "        yield break;\n",
    "    }\n",
    "/////////////////////////////////////////////////\n",
    "    BaseType? MoveNext(BaseType n)\n",
    "    {\n",
    "        Dictionary<Guid, List<BaseType>> cn = n.TopNode.ChildNodes;\n",
    "        List<BaseType>? childList;\n",
    "        BaseType? nextNode;\n",
    "        \n",
    "        n.order = i;  //almost instananeous\n",
    "        Assert.IsTrue(n.ObjectID == i);//very fast\n",
    "        i++;\n",
    "        //if n has child nodes, the next node is the first child node of n.\n",
    "        if (cn.TryGetValue(n.ObjectGUID, out childList))\n",
    "        {\n",
    "            nextNode = childList[0];\n",
    "            if (nextNode is not null) return nextNode;\n",
    "        }\n",
    "\n",
    "        //n has no child nodes, so walk up the tree to the parent node.\n",
    "        //When we walk back up the object graph, prevPar is the original starting node (deeper in the tree),\n",
    "        //while par is the parent of prevPar, more superficial in the tree, and closer to the top node\n",
    "        //We then check the childList of par, to see if prePar can be found in that childList\n",
    "        //If prevPar is in childList, then try to retrieve the next node in childList\n",
    "        //IF we cant get the nextNode from childList, then move up to one higher parent level\n",
    "        var prevPar = n;  \n",
    "        var par = prevPar.ParentNode;\n",
    "\n",
    "        while (par is not null)\n",
    "        {\n",
    "            if (cn.TryGetValue(par.ObjectGUID, out childList))\n",
    "            {\n",
    "                var index = childList.IndexOf(prevPar);\n",
    "                if (index < childList.Count - 1)\n",
    "                {\n",
    "                    nextNode = childList[index + 1];\n",
    "                    if (nextNode is not null) return nextNode;\n",
    "                }\n",
    "                //the next node is not located yet, so walk up to a previous ancestor and try again,\n",
    "                //looking in that ancestors childList for a nextNode candidate\n",
    "                prevPar = par; \n",
    "                par = prevPar.ParentNode;\n",
    "            }\n",
    "        }\n",
    "        return null;\n",
    "    }\n",
    "\n",
    "    void btPrint(BaseType n)\n",
    "    {\n",
    "        string content;\n",
    "        if (n is not null)\n",
    "        {\n",
    "            if (n is DisplayedType) content = \": title: \" + (n as DisplayedType)?.title;\n",
    "            else if (n is PropertyType) content = \": \" + (n as PropertyType)?.propName + \": \" + (n as PropertyType)?.val;\n",
    "            else content = \"\";\n",
    "\n",
    "            display(n.ObjectID.ToString().PadLeft(4) + \": \" + i.ToString().PadLeft(4) + \": \" + (n.name ?? \"\").PadRight(20) + \": \" + (n.ElementName ?? \"\").PadRight(25) + content);\n",
    "        }\n",
    "    }\n",
    "\n",
    "display(((Stopwatch.GetTimestamp() - timerStartTime) / Stopwatch.Frequency).ToString());"
   ]
  },
  {
   "cell_type": "markdown",
   "metadata": {
    "dotnet_interactive": {
     "language": "csharp"
    }
   },
   "source": [
    "## Find SDC node changes compared to the reference template\n",
    "* Create 2 FormDesign OMs, \"newOM\" and \"refOM\"\n",
    "* Iterate each node in newOM, and locate matcching node in refOM by ID, SGuid and/or name\n",
    "  * For each newOM node, determine if it's \n",
    "    * new, \n",
    "    * has a different parent node, \n",
    "    * previous sib has changed.\n",
    "  * Add the changed node's ID/name/sGUID and change type to a dictionary\n",
    "* Compare each SDC property in newOM with the matching refOM node\n",
    "* "
   ]
  }
 ],
 "metadata": {
  "kernelspec": {
   "display_name": ".NET (C#)",
   "language": "C#",
   "name": ".net-csharp"
  },
  "language_info": {
   "file_extension": ".cs",
   "mimetype": "text/x-csharp",
   "name": "C#",
   "pygments_lexer": "csharp",
   "version": "9.0"
  },
  "orig_nbformat": 4
 },
 "nbformat": 4,
 "nbformat_minor": 2
}
